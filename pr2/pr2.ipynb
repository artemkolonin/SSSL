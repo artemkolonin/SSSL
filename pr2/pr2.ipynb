{
  "nbformat": 4,
  "nbformat_minor": 0,
  "metadata": {
    "colab": {
      "provenance": []
    },
    "kernelspec": {
      "name": "python3",
      "display_name": "Python 3"
    },
    "language_info": {
      "name": "python"
    }
  },
  "cells": [
    {
      "cell_type": "code",
      "execution_count": 1,
      "metadata": {
        "colab": {
          "base_uri": "https://localhost:8080/"
        },
        "id": "BFYwFkXdN8uC",
        "outputId": "33aeb4fe-4efe-4019-f369-2be4f9e8ff7c"
      },
      "outputs": [
        {
          "output_type": "stream",
          "name": "stdout",
          "text": [
            "Вариант №13\n"
          ]
        }
      ],
      "source": [
        "v = 12 % 16 + 1 # считаем вариант\n",
        "print(f\"Вариант №{v}\")"
      ]
    },
    {
      "cell_type": "markdown",
      "source": [
        "Spark"
      ],
      "metadata": {
        "id": "OX3e2ZnxOLJe"
      }
    },
    {
      "cell_type": "markdown",
      "source": [
        "Подключаем необходимые библиотеки"
      ],
      "metadata": {
        "id": "OSN5AC31YxmN"
      }
    },
    {
      "cell_type": "code",
      "source": [
        "import re # регулярные выражения\n",
        "import sqlite3 # использование базы данных SQLite\n",
        "import pandas as pd # работа с табличными данными\n",
        "import matplotlib.pyplot as plt # визуализация данных\n",
        "import seaborn as sns\n",
        "import os.path # для скачивания логов"
      ],
      "metadata": {
        "id": "y48UoomJOElX"
      },
      "execution_count": 2,
      "outputs": []
    },
    {
      "cell_type": "markdown",
      "source": [
        "Скачиваем логи"
      ],
      "metadata": {
        "id": "_NPG4vNCY0T1"
      }
    },
    {
      "cell_type": "code",
      "source": [
        "if not os.path.isdir(\"./loghub/\"):\n",
        "    !git clone https://github.com/logpai/loghub"
      ],
      "metadata": {
        "colab": {
          "base_uri": "https://localhost:8080/"
        },
        "id": "gbVq7TSkQtpj",
        "outputId": "b91e74a0-d2b1-4df8-edfd-3bbc1d9e070a"
      },
      "execution_count": 3,
      "outputs": [
        {
          "output_type": "stream",
          "name": "stdout",
          "text": [
            "Cloning into 'loghub'...\n",
            "remote: Enumerating objects: 575, done.\u001b[K\n",
            "remote: Counting objects: 100% (171/171), done.\u001b[K\n",
            "remote: Compressing objects: 100% (39/39), done.\u001b[K\n",
            "remote: Total 575 (delta 145), reused 136 (delta 132), pack-reused 404 (from 1)\u001b[K\n",
            "Receiving objects: 100% (575/575), 7.27 MiB | 16.81 MiB/s, done.\n",
            "Resolving deltas: 100% (267/267), done.\n"
          ]
        }
      ]
    },
    {
      "cell_type": "markdown",
      "source": [
        "Просматриваем примеры логов по варианту"
      ],
      "metadata": {
        "id": "XfKZAe6rY3O7"
      }
    },
    {
      "cell_type": "code",
      "source": [
        "for i in open('./loghub/Spark/Spark_2k.log', 'r', encoding='utf-8').readlines()[:5]:\n",
        "  print(i)"
      ],
      "metadata": {
        "colab": {
          "base_uri": "https://localhost:8080/"
        },
        "id": "K9AdqvJdQw2L",
        "outputId": "e23798c1-06e5-4c5b-ee80-8f39b5f14213"
      },
      "execution_count": 4,
      "outputs": [
        {
          "output_type": "stream",
          "name": "stdout",
          "text": [
            "17/06/09 20:10:40 INFO executor.CoarseGrainedExecutorBackend: Registered signal handlers for [TERM, HUP, INT]\n",
            "\n",
            "17/06/09 20:10:40 INFO spark.SecurityManager: Changing view acls to: yarn,curi\n",
            "\n",
            "17/06/09 20:10:40 INFO spark.SecurityManager: Changing modify acls to: yarn,curi\n",
            "\n",
            "17/06/09 20:10:40 INFO spark.SecurityManager: SecurityManager: authentication disabled; ui acls disabled; users with view permissions: Set(yarn, curi); users with modify permissions: Set(yarn, curi)\n",
            "\n",
            "17/06/09 20:10:41 INFO spark.SecurityManager: Changing view acls to: yarn,curi\n",
            "\n"
          ]
        }
      ]
    },
    {
      "cell_type": "markdown",
      "source": [
        "Создаём и проверяем регулярное выражение для парсинга логов"
      ],
      "metadata": {
        "id": "CbbWTZo7Y8Mz"
      }
    },
    {
      "cell_type": "code",
      "source": [
        "log_line = open('./loghub/Spark/Spark_2k.log', 'r', encoding='utf-8').readlines()[0]"
      ],
      "metadata": {
        "id": "jembmmlpRG76"
      },
      "execution_count": 7,
      "outputs": []
    },
    {
      "cell_type": "code",
      "source": [
        "regex_pattern = r'(\\d{2}/\\d{2}/\\d{2}) (\\d{2}:\\d{2}:\\d{2}) (\\w+) (\\S+): (.*)'\n",
        "matches = re.match(regex_pattern, log_line)\n",
        "if matches:\n",
        "  date = matches.group(1)\n",
        "  time = matches.group(2)\n",
        "  log_level = matches.group(3)\n",
        "  service = matches.group(4)\n",
        "  message = matches.group(5)\n",
        "print(\"Date:\", date)\n",
        "print(\"Time:\", time)\n",
        "print(\"Log Level:\", log_level)\n",
        "print(\"Service:\", service)\n",
        "print(\"Message:\", message)"
      ],
      "metadata": {
        "colab": {
          "base_uri": "https://localhost:8080/"
        },
        "id": "aCYaVTY_R1kJ",
        "outputId": "b7a190de-5bba-43f3-ea01-7f77d9b1e5b0"
      },
      "execution_count": 12,
      "outputs": [
        {
          "output_type": "stream",
          "name": "stdout",
          "text": [
            "Date: 17/06/09\n",
            "Time: 20:10:40\n",
            "Log Level: INFO\n",
            "Service: executor.CoarseGrainedExecutorBackend\n",
            "Message: Registered signal handlers for [TERM, HUP, INT]\n"
          ]
        }
      ]
    },
    {
      "cell_type": "code",
      "source": [
        "pattern = re.compile(r'(\\d{2}/\\d{2}/\\d{2}) (\\d{2}:\\d{2}:\\d{2}) (\\w+) (\\S+): (.*)')"
      ],
      "metadata": {
        "id": "hgzo6hlBXdZL"
      },
      "execution_count": 15,
      "outputs": []
    },
    {
      "cell_type": "markdown",
      "source": [
        "Создаём БД"
      ],
      "metadata": {
        "id": "6yLogkF4ZKdI"
      }
    },
    {
      "cell_type": "code",
      "source": [
        "if not os.path.isdir(\"./db/\"):\n",
        "  os.makedirs(\"./db/\")\n",
        "db_path = './db/log-analysis.db' # путь к файлу БД\n",
        "connection = sqlite3.connect(db_path) # подключаемся к БД\n",
        "cursor = connection.cursor() # создание курсора\n",
        "cursor.execute(\"DROP TABLE IF EXISTS LogTable\") # очистка БД (если существует)\n",
        "cursor.execute(\"CREATE TABLE LogTable (id INTEGER PRIMARY KEY AUTOINCREMENT,\\\n",
        "                date DATE, time TIME, level VARCHAR(50),\\\n",
        "                service VARCHAR(255), message TEXT)\") # Создаём таблицу с полями логов\n",
        "connection.commit() # сохраняем изменения\n",
        "cursor.close() # закрываем курсор\n",
        "connection.close() # отключаемся от БД"
      ],
      "metadata": {
        "id": "4bORjNYcSOXB"
      },
      "execution_count": 13,
      "outputs": []
    },
    {
      "cell_type": "markdown",
      "source": [
        "Парсим логи в БД"
      ],
      "metadata": {
        "id": "z5j_fH0_ZQrG"
      }
    },
    {
      "cell_type": "code",
      "source": [
        "connection = sqlite3.connect(db_path) # подключаемся к БД\n",
        "cursor = connection.cursor() # создаём курсор\n",
        "cursor.execute(\"DELETE FROM LogTable\") # очищаем от дублей\n",
        "with open('./loghub/Spark/Spark_2k.log', 'r', encoding='utf-8') as log_file: # парсим логи\n",
        "    for line in log_file:\n",
        "        log_match = pattern.match(line)\n",
        "        if log_match:\n",
        "            date = log_match.group(1)\n",
        "            time = log_match.group(2)\n",
        "            level = log_match.group(3)\n",
        "            service = log_match.group(4)\n",
        "            message = log_match.group(5)\n",
        "            values = (date, time, level, service, message) # создаём значение для записи в БД\n",
        "            sql = \"INSERT INTO LogTable (date, time, level, service, message) VALUES (?, ?, ?, ?, ?)\"\n",
        "            cursor.execute(sql, values) # записываем данные в БД\n",
        "connection.commit()\n",
        "cursor.close()\n",
        "connection.close()"
      ],
      "metadata": {
        "id": "N-duHubLWlkS"
      },
      "execution_count": 16,
      "outputs": []
    },
    {
      "cell_type": "markdown",
      "source": [
        "Перенесём логи в датафрейм для последующей визуализации и выведем"
      ],
      "metadata": {
        "id": "2TyC1Vd3ZVBw"
      }
    },
    {
      "cell_type": "code",
      "source": [
        "connection = sqlite3.connect(db_path)\n",
        "cursor = connection.cursor()\n",
        "cursor.execute(\"SELECT * FROM LogTable\")\n",
        "rows = cursor.fetchall()\n",
        "cursor.close()\n",
        "connection.close()\n",
        "log_df = pd.DataFrame(rows, columns=(\"id\", \"date\", \"time\", \"level\", \"service\", \"message\")) # создадим датафрейм с записями из БД\n",
        "log_df.head() # выведем первые несколько значений"
      ],
      "metadata": {
        "colab": {
          "base_uri": "https://localhost:8080/",
          "height": 206
        },
        "id": "sfjbczgyXSGK",
        "outputId": "8692bc0d-3609-4200-d2d0-f98ed645581c"
      },
      "execution_count": 17,
      "outputs": [
        {
          "output_type": "execute_result",
          "data": {
            "text/plain": [
              "   id      date      time level                                service  \\\n",
              "0   1  17/06/09  20:10:40  INFO  executor.CoarseGrainedExecutorBackend   \n",
              "1   2  17/06/09  20:10:40  INFO                  spark.SecurityManager   \n",
              "2   3  17/06/09  20:10:40  INFO                  spark.SecurityManager   \n",
              "3   4  17/06/09  20:10:40  INFO                  spark.SecurityManager   \n",
              "4   5  17/06/09  20:10:41  INFO                  spark.SecurityManager   \n",
              "\n",
              "                                             message  \n",
              "0    Registered signal handlers for [TERM, HUP, INT]  \n",
              "1                   Changing view acls to: yarn,curi  \n",
              "2                 Changing modify acls to: yarn,curi  \n",
              "3  SecurityManager: authentication disabled; ui a...  \n",
              "4                   Changing view acls to: yarn,curi  "
            ],
            "text/html": [
              "\n",
              "  <div id=\"df-e2cd80bd-a052-4225-a0ba-7327adcfdd97\" class=\"colab-df-container\">\n",
              "    <div>\n",
              "<style scoped>\n",
              "    .dataframe tbody tr th:only-of-type {\n",
              "        vertical-align: middle;\n",
              "    }\n",
              "\n",
              "    .dataframe tbody tr th {\n",
              "        vertical-align: top;\n",
              "    }\n",
              "\n",
              "    .dataframe thead th {\n",
              "        text-align: right;\n",
              "    }\n",
              "</style>\n",
              "<table border=\"1\" class=\"dataframe\">\n",
              "  <thead>\n",
              "    <tr style=\"text-align: right;\">\n",
              "      <th></th>\n",
              "      <th>id</th>\n",
              "      <th>date</th>\n",
              "      <th>time</th>\n",
              "      <th>level</th>\n",
              "      <th>service</th>\n",
              "      <th>message</th>\n",
              "    </tr>\n",
              "  </thead>\n",
              "  <tbody>\n",
              "    <tr>\n",
              "      <th>0</th>\n",
              "      <td>1</td>\n",
              "      <td>17/06/09</td>\n",
              "      <td>20:10:40</td>\n",
              "      <td>INFO</td>\n",
              "      <td>executor.CoarseGrainedExecutorBackend</td>\n",
              "      <td>Registered signal handlers for [TERM, HUP, INT]</td>\n",
              "    </tr>\n",
              "    <tr>\n",
              "      <th>1</th>\n",
              "      <td>2</td>\n",
              "      <td>17/06/09</td>\n",
              "      <td>20:10:40</td>\n",
              "      <td>INFO</td>\n",
              "      <td>spark.SecurityManager</td>\n",
              "      <td>Changing view acls to: yarn,curi</td>\n",
              "    </tr>\n",
              "    <tr>\n",
              "      <th>2</th>\n",
              "      <td>3</td>\n",
              "      <td>17/06/09</td>\n",
              "      <td>20:10:40</td>\n",
              "      <td>INFO</td>\n",
              "      <td>spark.SecurityManager</td>\n",
              "      <td>Changing modify acls to: yarn,curi</td>\n",
              "    </tr>\n",
              "    <tr>\n",
              "      <th>3</th>\n",
              "      <td>4</td>\n",
              "      <td>17/06/09</td>\n",
              "      <td>20:10:40</td>\n",
              "      <td>INFO</td>\n",
              "      <td>spark.SecurityManager</td>\n",
              "      <td>SecurityManager: authentication disabled; ui a...</td>\n",
              "    </tr>\n",
              "    <tr>\n",
              "      <th>4</th>\n",
              "      <td>5</td>\n",
              "      <td>17/06/09</td>\n",
              "      <td>20:10:41</td>\n",
              "      <td>INFO</td>\n",
              "      <td>spark.SecurityManager</td>\n",
              "      <td>Changing view acls to: yarn,curi</td>\n",
              "    </tr>\n",
              "  </tbody>\n",
              "</table>\n",
              "</div>\n",
              "    <div class=\"colab-df-buttons\">\n",
              "\n",
              "  <div class=\"colab-df-container\">\n",
              "    <button class=\"colab-df-convert\" onclick=\"convertToInteractive('df-e2cd80bd-a052-4225-a0ba-7327adcfdd97')\"\n",
              "            title=\"Convert this dataframe to an interactive table.\"\n",
              "            style=\"display:none;\">\n",
              "\n",
              "  <svg xmlns=\"http://www.w3.org/2000/svg\" height=\"24px\" viewBox=\"0 -960 960 960\">\n",
              "    <path d=\"M120-120v-720h720v720H120Zm60-500h600v-160H180v160Zm220 220h160v-160H400v160Zm0 220h160v-160H400v160ZM180-400h160v-160H180v160Zm440 0h160v-160H620v160ZM180-180h160v-160H180v160Zm440 0h160v-160H620v160Z\"/>\n",
              "  </svg>\n",
              "    </button>\n",
              "\n",
              "  <style>\n",
              "    .colab-df-container {\n",
              "      display:flex;\n",
              "      gap: 12px;\n",
              "    }\n",
              "\n",
              "    .colab-df-convert {\n",
              "      background-color: #E8F0FE;\n",
              "      border: none;\n",
              "      border-radius: 50%;\n",
              "      cursor: pointer;\n",
              "      display: none;\n",
              "      fill: #1967D2;\n",
              "      height: 32px;\n",
              "      padding: 0 0 0 0;\n",
              "      width: 32px;\n",
              "    }\n",
              "\n",
              "    .colab-df-convert:hover {\n",
              "      background-color: #E2EBFA;\n",
              "      box-shadow: 0px 1px 2px rgba(60, 64, 67, 0.3), 0px 1px 3px 1px rgba(60, 64, 67, 0.15);\n",
              "      fill: #174EA6;\n",
              "    }\n",
              "\n",
              "    .colab-df-buttons div {\n",
              "      margin-bottom: 4px;\n",
              "    }\n",
              "\n",
              "    [theme=dark] .colab-df-convert {\n",
              "      background-color: #3B4455;\n",
              "      fill: #D2E3FC;\n",
              "    }\n",
              "\n",
              "    [theme=dark] .colab-df-convert:hover {\n",
              "      background-color: #434B5C;\n",
              "      box-shadow: 0px 1px 3px 1px rgba(0, 0, 0, 0.15);\n",
              "      filter: drop-shadow(0px 1px 2px rgba(0, 0, 0, 0.3));\n",
              "      fill: #FFFFFF;\n",
              "    }\n",
              "  </style>\n",
              "\n",
              "    <script>\n",
              "      const buttonEl =\n",
              "        document.querySelector('#df-e2cd80bd-a052-4225-a0ba-7327adcfdd97 button.colab-df-convert');\n",
              "      buttonEl.style.display =\n",
              "        google.colab.kernel.accessAllowed ? 'block' : 'none';\n",
              "\n",
              "      async function convertToInteractive(key) {\n",
              "        const element = document.querySelector('#df-e2cd80bd-a052-4225-a0ba-7327adcfdd97');\n",
              "        const dataTable =\n",
              "          await google.colab.kernel.invokeFunction('convertToInteractive',\n",
              "                                                    [key], {});\n",
              "        if (!dataTable) return;\n",
              "\n",
              "        const docLinkHtml = 'Like what you see? Visit the ' +\n",
              "          '<a target=\"_blank\" href=https://colab.research.google.com/notebooks/data_table.ipynb>data table notebook</a>'\n",
              "          + ' to learn more about interactive tables.';\n",
              "        element.innerHTML = '';\n",
              "        dataTable['output_type'] = 'display_data';\n",
              "        await google.colab.output.renderOutput(dataTable, element);\n",
              "        const docLink = document.createElement('div');\n",
              "        docLink.innerHTML = docLinkHtml;\n",
              "        element.appendChild(docLink);\n",
              "      }\n",
              "    </script>\n",
              "  </div>\n",
              "\n",
              "\n",
              "<div id=\"df-d0ea97e8-853b-4ecd-abe9-0ed977b39562\">\n",
              "  <button class=\"colab-df-quickchart\" onclick=\"quickchart('df-d0ea97e8-853b-4ecd-abe9-0ed977b39562')\"\n",
              "            title=\"Suggest charts\"\n",
              "            style=\"display:none;\">\n",
              "\n",
              "<svg xmlns=\"http://www.w3.org/2000/svg\" height=\"24px\"viewBox=\"0 0 24 24\"\n",
              "     width=\"24px\">\n",
              "    <g>\n",
              "        <path d=\"M19 3H5c-1.1 0-2 .9-2 2v14c0 1.1.9 2 2 2h14c1.1 0 2-.9 2-2V5c0-1.1-.9-2-2-2zM9 17H7v-7h2v7zm4 0h-2V7h2v10zm4 0h-2v-4h2v4z\"/>\n",
              "    </g>\n",
              "</svg>\n",
              "  </button>\n",
              "\n",
              "<style>\n",
              "  .colab-df-quickchart {\n",
              "      --bg-color: #E8F0FE;\n",
              "      --fill-color: #1967D2;\n",
              "      --hover-bg-color: #E2EBFA;\n",
              "      --hover-fill-color: #174EA6;\n",
              "      --disabled-fill-color: #AAA;\n",
              "      --disabled-bg-color: #DDD;\n",
              "  }\n",
              "\n",
              "  [theme=dark] .colab-df-quickchart {\n",
              "      --bg-color: #3B4455;\n",
              "      --fill-color: #D2E3FC;\n",
              "      --hover-bg-color: #434B5C;\n",
              "      --hover-fill-color: #FFFFFF;\n",
              "      --disabled-bg-color: #3B4455;\n",
              "      --disabled-fill-color: #666;\n",
              "  }\n",
              "\n",
              "  .colab-df-quickchart {\n",
              "    background-color: var(--bg-color);\n",
              "    border: none;\n",
              "    border-radius: 50%;\n",
              "    cursor: pointer;\n",
              "    display: none;\n",
              "    fill: var(--fill-color);\n",
              "    height: 32px;\n",
              "    padding: 0;\n",
              "    width: 32px;\n",
              "  }\n",
              "\n",
              "  .colab-df-quickchart:hover {\n",
              "    background-color: var(--hover-bg-color);\n",
              "    box-shadow: 0 1px 2px rgba(60, 64, 67, 0.3), 0 1px 3px 1px rgba(60, 64, 67, 0.15);\n",
              "    fill: var(--button-hover-fill-color);\n",
              "  }\n",
              "\n",
              "  .colab-df-quickchart-complete:disabled,\n",
              "  .colab-df-quickchart-complete:disabled:hover {\n",
              "    background-color: var(--disabled-bg-color);\n",
              "    fill: var(--disabled-fill-color);\n",
              "    box-shadow: none;\n",
              "  }\n",
              "\n",
              "  .colab-df-spinner {\n",
              "    border: 2px solid var(--fill-color);\n",
              "    border-color: transparent;\n",
              "    border-bottom-color: var(--fill-color);\n",
              "    animation:\n",
              "      spin 1s steps(1) infinite;\n",
              "  }\n",
              "\n",
              "  @keyframes spin {\n",
              "    0% {\n",
              "      border-color: transparent;\n",
              "      border-bottom-color: var(--fill-color);\n",
              "      border-left-color: var(--fill-color);\n",
              "    }\n",
              "    20% {\n",
              "      border-color: transparent;\n",
              "      border-left-color: var(--fill-color);\n",
              "      border-top-color: var(--fill-color);\n",
              "    }\n",
              "    30% {\n",
              "      border-color: transparent;\n",
              "      border-left-color: var(--fill-color);\n",
              "      border-top-color: var(--fill-color);\n",
              "      border-right-color: var(--fill-color);\n",
              "    }\n",
              "    40% {\n",
              "      border-color: transparent;\n",
              "      border-right-color: var(--fill-color);\n",
              "      border-top-color: var(--fill-color);\n",
              "    }\n",
              "    60% {\n",
              "      border-color: transparent;\n",
              "      border-right-color: var(--fill-color);\n",
              "    }\n",
              "    80% {\n",
              "      border-color: transparent;\n",
              "      border-right-color: var(--fill-color);\n",
              "      border-bottom-color: var(--fill-color);\n",
              "    }\n",
              "    90% {\n",
              "      border-color: transparent;\n",
              "      border-bottom-color: var(--fill-color);\n",
              "    }\n",
              "  }\n",
              "</style>\n",
              "\n",
              "  <script>\n",
              "    async function quickchart(key) {\n",
              "      const quickchartButtonEl =\n",
              "        document.querySelector('#' + key + ' button');\n",
              "      quickchartButtonEl.disabled = true;  // To prevent multiple clicks.\n",
              "      quickchartButtonEl.classList.add('colab-df-spinner');\n",
              "      try {\n",
              "        const charts = await google.colab.kernel.invokeFunction(\n",
              "            'suggestCharts', [key], {});\n",
              "      } catch (error) {\n",
              "        console.error('Error during call to suggestCharts:', error);\n",
              "      }\n",
              "      quickchartButtonEl.classList.remove('colab-df-spinner');\n",
              "      quickchartButtonEl.classList.add('colab-df-quickchart-complete');\n",
              "    }\n",
              "    (() => {\n",
              "      let quickchartButtonEl =\n",
              "        document.querySelector('#df-d0ea97e8-853b-4ecd-abe9-0ed977b39562 button');\n",
              "      quickchartButtonEl.style.display =\n",
              "        google.colab.kernel.accessAllowed ? 'block' : 'none';\n",
              "    })();\n",
              "  </script>\n",
              "</div>\n",
              "    </div>\n",
              "  </div>\n"
            ],
            "application/vnd.google.colaboratory.intrinsic+json": {
              "type": "dataframe",
              "variable_name": "log_df",
              "summary": "{\n  \"name\": \"log_df\",\n  \"rows\": 2000,\n  \"fields\": [\n    {\n      \"column\": \"id\",\n      \"properties\": {\n        \"dtype\": \"number\",\n        \"std\": 577,\n        \"min\": 1,\n        \"max\": 2000,\n        \"num_unique_values\": 2000,\n        \"samples\": [\n          1861,\n          354,\n          1334\n        ],\n        \"semantic_type\": \"\",\n        \"description\": \"\"\n      }\n    },\n    {\n      \"column\": \"date\",\n      \"properties\": {\n        \"dtype\": \"object\",\n        \"num_unique_values\": 1,\n        \"samples\": [\n          \"17/06/09\"\n        ],\n        \"semantic_type\": \"\",\n        \"description\": \"\"\n      }\n    },\n    {\n      \"column\": \"time\",\n      \"properties\": {\n        \"dtype\": \"object\",\n        \"num_unique_values\": 20,\n        \"samples\": [\n          \"20:10:40\"\n        ],\n        \"semantic_type\": \"\",\n        \"description\": \"\"\n      }\n    },\n    {\n      \"column\": \"level\",\n      \"properties\": {\n        \"dtype\": \"category\",\n        \"num_unique_values\": 1,\n        \"samples\": [\n          \"INFO\"\n        ],\n        \"semantic_type\": \"\",\n        \"description\": \"\"\n      }\n    },\n    {\n      \"column\": \"service\",\n      \"properties\": {\n        \"dtype\": \"category\",\n        \"num_unique_values\": 18,\n        \"samples\": [\n          \"executor.CoarseGrainedExecutorBackend\"\n        ],\n        \"semantic_type\": \"\",\n        \"description\": \"\"\n      }\n    },\n    {\n      \"column\": \"message\",\n      \"properties\": {\n        \"dtype\": \"string\",\n        \"num_unique_values\": 1699,\n        \"samples\": [\n          \"Block rdd_26_1 stored as bytes in memory (estimated size 16.0 B, free 419.7 KB)\"\n        ],\n        \"semantic_type\": \"\",\n        \"description\": \"\"\n      }\n    }\n  ]\n}"
            }
          },
          "metadata": {},
          "execution_count": 17
        }
      ]
    },
    {
      "cell_type": "markdown",
      "source": [
        "Визаулизируем уровни логов"
      ],
      "metadata": {
        "id": "1_m-Q-8YZf0Y"
      }
    },
    {
      "cell_type": "code",
      "source": [
        "log_level_counts = log_df['level'].value_counts()\n",
        "log_level_counts.plot(kind='bar')\n",
        "plt.xlabel('Log Level')\n",
        "plt.ylabel('Count')\n",
        "plt.title('Log Level Distribution')\n",
        "plt.show()"
      ],
      "metadata": {
        "colab": {
          "base_uri": "https://localhost:8080/",
          "height": 491
        },
        "id": "ArKnVRg2XyTB",
        "outputId": "4c396ce7-d4c9-4a42-9e19-5107bf99181e"
      },
      "execution_count": 18,
      "outputs": [
        {
          "output_type": "display_data",
          "data": {
            "text/plain": [
              "<Figure size 640x480 with 1 Axes>"
            ],
            "image/png": "[encoded data removed]"
          },
          "metadata": {}
        }
      ]
    },
    {
      "cell_type": "markdown",
      "source": [
        "Все логи относятся к INFO. Теперь визуализируем сервисы, чтобы увидеть, какой из них оставил больше всего логов"
      ],
      "metadata": {
        "id": "RkRpBPkmZqZ7"
      }
    },
    {
      "cell_type": "code",
      "source": [
        "log_level_counts = log_df['service'].value_counts()\n",
        "log_level_counts.plot(kind='bar')\n",
        "plt.xlabel('Services')\n",
        "plt.ylabel('Count')\n",
        "plt.title('Services Distribution')\n",
        "plt.show()"
      ],
      "metadata": {
        "colab": {
          "base_uri": "https://localhost:8080/",
          "height": 746
        },
        "id": "vVEibvBrYQMJ",
        "outputId": "bc2280ce-2cde-4a65-b89c-9efa87573f0e"
      },
      "execution_count": 19,
      "outputs": [
        {
          "output_type": "display_data",
          "data": {
            "text/plain": [
              "<Figure size 640x480 with 1 Axes>"
            ],
            "image/png": "[encoded data removed]"
          },
          "metadata": {}
        }
      ]
    },
    {
      "cell_type": "markdown",
      "source": [
        "Визуализация остальных полей не имеет смысла. Дата и время мало что дадут, а в последнем поле находятся слишком много самых разных сообщений"
      ],
      "metadata": {
        "id": "ntBmdF7yZ9AJ"
      }
    }
  ]
}